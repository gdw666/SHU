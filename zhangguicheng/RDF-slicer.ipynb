{
 "cells": [
  {
   "cell_type": "code",
   "execution_count": null,
   "id": "c3b9d2cb-7cc3-471b-9cd5-8b13a35bb83b",
   "metadata": {},
   "outputs": [],
   "source": []
  },
  {
   "cell_type": "code",
   "execution_count": 19,
   "id": "dd20b1b3-a608-4345-8ff6-3f6bbce366d0",
   "metadata": {},
   "outputs": [],
   "source": [
    "#晶格常数\n",
    "a = 10.851\n",
    "#总面积\n",
    "Sarea = 10.851*10.851\n",
    "#z轴范围限定\n",
    "z_min_threshold = 0.1036\n",
    "z_max_threshold = 0.1327\n",
    "\n",
    "center_atom = 0\n",
    "dr = 0.01\n",
    "max_radius = 1.0"
   ]
  },
  {
   "cell_type": "code",
   "execution_count": 20,
   "id": "3eb58cad-a351-4a5c-9281-6b603c7534c0",
   "metadata": {},
   "outputs": [
    {
     "name": "stdout",
     "output_type": "stream",
     "text": [
      "两个原子的纵坐标差的绝对值： 2.0\n"
     ]
    }
   ],
   "source": [
    "def vertical_coordinate_difference(atom1, atom2):\n",
    "    \"\"\"计算两个三维原子的纵坐标差的绝对值\"\"\"\n",
    "    delta_z = abs(atom1[2] - atom2[2])\n",
    "    return delta_z\n",
    "\n",
    "# 示例用法\n",
    "atom1 = [1.0, 2.0, 3.0]\n",
    "atom2 = [1.0, 5.0, 1.0]\n",
    "\n",
    "difference = vertical_coordinate_difference(atom1, atom2)\n",
    "print(\"两个原子的纵坐标差的绝对值：\", difference)"
   ]
  },
  {
   "cell_type": "code",
   "execution_count": 21,
   "id": "5439db47-796c-4ed4-8c74-0281b6ea82d8",
   "metadata": {},
   "outputs": [
    {
     "name": "stdout",
     "output_type": "stream",
     "text": [
      "晶格矢量： [[10.851, 0.0, 0.0], [0.0, 10.851, 0.0], [0.0, 0.0, 55.0]]\n",
      "元素符号： ['Co', 'Al']\n",
      "每个元素的原子数目： [108, 164]\n",
      "总帧数： 2500\n"
     ]
    }
   ],
   "source": [
    "#解析XDATCAR\n",
    "\n",
    "def read_xdatcar(file_path):\n",
    "    with open(file_path, 'r') as file:\n",
    "        lines = file.readlines()\n",
    "\n",
    "    # 提取晶格矢量\n",
    "    lattice_vectors = [list(map(float, line.split())) for line in lines[2:5]]\n",
    "\n",
    "    # 提取元素符号和原子数目\n",
    "    elements = lines[5].split()\n",
    "    num_atoms = list(map(int, lines[6].split()))\n",
    "\n",
    "    # 提取原子坐标和总帧数\n",
    "    atomic_coordinates = []\n",
    "    start_line = 8  # XDATCAR 文件中原子坐标开始的行数\n",
    "    frames = 0\n",
    "    while start_line < len(lines):\n",
    "        frames += 1\n",
    "        coordinates = [list(map(float, line.split())) for line in lines[start_line:start_line + sum(num_atoms)]]\n",
    "        atomic_coordinates.append(coordinates)\n",
    "        start_line += sum(num_atoms) + 1  # 跳过下一帧的开头行\n",
    "\n",
    "    return lattice_vectors, elements, num_atoms, atomic_coordinates, frames\n",
    "\n",
    "# 示例用法\n",
    "xdatcar_file_path = './XDATCAR'\n",
    "lattice_vectors, elements, num_atoms, atomic_coordinates, total_frames = read_xdatcar(xdatcar_file_path)\n",
    "\n",
    "# 打印示例结果\n",
    "print(\"晶格矢量：\", lattice_vectors)\n",
    "print(\"元素符号：\", elements)\n",
    "print(\"每个元素的原子数目：\", num_atoms)\n",
    "print(\"总帧数：\", total_frames)\n",
    "# print(\"每一帧的原子坐标：\", atomic_coordinates)\n"
   ]
  },
  {
   "cell_type": "code",
   "execution_count": 22,
   "id": "b85387bf-8480-4c72-8d14-332127651862",
   "metadata": {},
   "outputs": [
    {
     "name": "stdout",
     "output_type": "stream",
     "text": [
      "原始原子坐标： [[0.28691805, 0.06947627, 0.11750044], [0.45406372, 0.23734263, 0.11875604], [0.62005686, 0.0685945, 0.11912338], [0.78121057, 0.24215361, 0.11936453], [0.94119816, 0.06030864, 0.11646682], [1.12012545, 0.24868806, 0.11674704], [0.28000115, 0.38619387, 0.11930967], [0.41684312, 0.55920905, 0.11800705], [0.63012561, 0.39453915, 0.11660469], [0.78427997, 0.56771483, 0.11477577], [0.93853307, 0.40069157, 0.11580222], [1.12012115, 0.55205405, 0.12142776], [0.28822241, 0.75631429, 0.12029467], [0.46110674, 0.9316272, 0.12224116], [0.64763115, 0.74050073, 0.11196714], [0.80216234, 0.88699154, 0.11546252], [0.96967252, 0.73291645, 0.1196152], [1.12034525, 0.8957219, 0.11739136]]\n",
      "过滤后的原子坐标： [[0.28691805, 0.06947627, 0.11750044], [0.45406372, 0.23734263, 0.11875604], [0.62005686, 0.0685945, 0.11912338], [0.78121057, 0.24215361, 0.11936453], [0.94119816, 0.06030864, 0.11646682], [1.12012545, 0.24868806, 0.11674704], [0.28000115, 0.38619387, 0.11930967], [0.41684312, 0.55920905, 0.11800705], [0.63012561, 0.39453915, 0.11660469], [0.78427997, 0.56771483, 0.11477577], [0.93853307, 0.40069157, 0.11580222], [1.12012115, 0.55205405, 0.12142776], [0.28822241, 0.75631429, 0.12029467], [0.46110674, 0.9316272, 0.12224116], [0.64763115, 0.74050073, 0.11196714], [0.80216234, 0.88699154, 0.11546252], [0.96967252, 0.73291645, 0.1196152], [1.12034525, 0.8957219, 0.11739136]]\n"
     ]
    }
   ],
   "source": [
    "def filter_coordinates_by_z(coordinates, z_min, z_max):\n",
    "    \"\"\"保留z轴坐标在阈值范围内的原子\"\"\"\n",
    "    filtered_coordinates = []\n",
    "\n",
    "    for frame in coordinates:\n",
    "        filtered_frame = [atom for atom in frame if z_min <= atom[2] <= z_max]\n",
    "        filtered_coordinates.append(filtered_frame)\n",
    "\n",
    "    return filtered_coordinates\n",
    "\n",
    "atomic_coordinates = filter_coordinates_by_z(atomic_coordinates, z_min_threshold, z_max_threshold)\n",
    "\n",
    "# 打印示例结果\n",
    "print(\"原始原子坐标：\", atomic_coordinates[0])\n",
    "print(\"过滤后的原子坐标：\", atomic_coordinates[0])"
   ]
  },
  {
   "cell_type": "code",
   "execution_count": 23,
   "id": "76b68ca3-61b6-46c3-959d-44a576bdf8c8",
   "metadata": {
    "scrolled": true
   },
   "outputs": [
    {
     "name": "stdout",
     "output_type": "stream",
     "text": [
      "原始原子坐标： [[0.28691805, 0.06947627, 0.11750044], [0.45406372, 0.23734263, 0.11875604], [0.62005686, 0.0685945, 0.11912338], [0.78121057, 0.24215361, 0.11936453], [0.94119816, 0.06030864, 0.11646682], [1.12012545, 0.24868806, 0.11674704], [0.28000115, 0.38619387, 0.11930967], [0.41684312, 0.55920905, 0.11800705], [0.63012561, 0.39453915, 0.11660469], [0.78427997, 0.56771483, 0.11477577], [0.93853307, 0.40069157, 0.11580222], [1.12012115, 0.55205405, 0.12142776], [0.28822241, 0.75631429, 0.12029467], [0.46110674, 0.9316272, 0.12224116], [0.64763115, 0.74050073, 0.11196714], [0.80216234, 0.88699154, 0.11546252], [0.96967252, 0.73291645, 0.1196152], [1.12034525, 0.8957219, 0.11739136]]\n",
      "处理后的原子坐标： [[0.28691805, 0.06947627, 0.11750044], [0.45406372, 0.23734263, 0.11875604], [0.62005686, 0.0685945, 0.11912338], [0.78121057, 0.24215361, 0.11936453], [0.94119816, 0.06030864, 0.11646682], [0.12012544999999997, 0.24868806, 0.11674704], [0.28000115, 0.38619387, 0.11930967], [0.41684312, 0.55920905, 0.11800705], [0.63012561, 0.39453915, 0.11660469], [0.78427997, 0.56771483, 0.11477577], [0.93853307, 0.40069157, 0.11580222], [0.1201211499999999, 0.55205405, 0.12142776], [0.28822241, 0.75631429, 0.12029467], [0.46110674, 0.9316272, 0.12224116], [0.64763115, 0.74050073, 0.11196714], [0.80216234, 0.88699154, 0.11546252], [0.96967252, 0.73291645, 0.1196152], [0.12034524999999996, 0.8957219, 0.11739136]]\n"
     ]
    }
   ],
   "source": [
    "#只保留atomic_coordinates中每个原子的前两个坐标，并且如果坐标是负数则加1，如果大于1则减1\n",
    "def process_coordinates(atomic_coordinates):\n",
    "    processed_coordinates = []\n",
    "\n",
    "    for frame in atomic_coordinates:\n",
    "        #processed_frame = [[(coord + 1) if coord < 0 else (coord - 1) if coord > 1 else coord for coord in atom[:2]] + [atom[2]] for atom in frame]\n",
    "        processed_frame = [[(coord + 1) % 1 if coord < 0 else coord % 1 if coord > 1 else coord for coord in atom[:2]] + [atom[2]] for atom in frame]\n",
    "\n",
    "        processed_coordinates.append(processed_frame)\n",
    "\n",
    "    return processed_coordinates\n",
    "\n",
    "# 示例用法\n",
    "processed_atomic_coordinates = process_coordinates(atomic_coordinates)\n",
    "\n",
    "# 打印示例结果\n",
    "print(\"原始原子坐标：\", atomic_coordinates[0])\n",
    "print(\"处理后的原子坐标：\", processed_atomic_coordinates[0])\n"
   ]
  },
  {
   "cell_type": "code",
   "execution_count": 13,
   "id": "00092334-1816-42c6-a0e1-20867a9a4674",
   "metadata": {},
   "outputs": [
    {
     "data": {
      "text/plain": [
       "0.8"
      ]
     },
     "execution_count": 13,
     "metadata": {},
     "output_type": "execute_result"
    }
   ],
   "source": [
    "1.8 % 1"
   ]
  },
  {
   "cell_type": "code",
   "execution_count": 24,
   "id": "1d7f034a-e69b-4693-a6ab-6ed3d4747e00",
   "metadata": {
    "scrolled": true
   },
   "outputs": [
    {
     "name": "stdout",
     "output_type": "stream",
     "text": [
      "[ 0.          0.          0.          0.          0.          0.\n",
      "  0.          0.          0.          0.          0.          0.\n",
      "  0.          0.          0.          0.          0.          0.\n",
      "  0.          0.          0.          0.          0.         39.97662703\n",
      " 38.37756194  0.          0.          0.          0.          0.\n",
      "  0.         29.98247027  0.         28.21879555  0.          0.\n",
      "  0.          0.          0.          0.          0.          0.\n",
      "  0.          0.          0.          0.          0.         19.98831351\n",
      "  0.          0.         37.62506073  0.          0.         17.76738979\n",
      "  0.          0.          0.          0.          0.          0.\n",
      "  0.          0.          0.          0.          0.         14.53695528\n",
      "  0.          0.         13.90491375  0.         13.51322604  0.\n",
      "  0.         12.96539255  0.         12.62419801  0.          0.\n",
      "  0.          0.          0.          0.          0.          0.\n",
      " 11.28751822  0.          0.         10.90271646  0.          0.\n",
      "  0.          0.          0.          0.          0.          9.99415676\n",
      "  9.89112421  0.          0.          0.        ]\n"
     ]
    }
   ],
   "source": [
    "import numpy as np\n",
    "import matplotlib.pyplot as plt\n",
    "\n",
    "def distance(p1, p2):\n",
    "    \"\"\"计算两点之间的距离\"\"\"\n",
    "    return np.sqrt((p1[0] - p2[0])**2 + (p1[1] - p2[1])**2)\n",
    "\n",
    "def radial_distribution_function(coordinates, center_atom, dr, max_radius):\n",
    "    #avg_density = N总/S总\n",
    "    avg_density = len(coordinates)/Sarea\n",
    "    \"\"\"计算二维坐标系中的径向分布函数\"\"\"\n",
    "    center = coordinates[center_atom]  # 指定原子的坐标\n",
    "    distances = []\n",
    "\n",
    "    for i, atom in enumerate(coordinates):\n",
    "        if i != center_atom:\n",
    "            dist = distance(center, atom)\n",
    "            distances.append(dist)\n",
    "\n",
    "    bins = np.arange(0, max_radius + dr, dr)\n",
    "    #落在圆环上的点的个数\n",
    "    rdf_num, _ = np.histogram(distances, bins=bins)\n",
    "    # print(\"每一圈的原子个数：\" )\n",
    "    # print(rdf_num)\n",
    "    #每个圆环的面积\n",
    "    #print(bins[1:])\n",
    "    areas = 2 * np.pi * bins[1:] * dr*a\n",
    "    # print(\"每一圈的面积：\" )\n",
    "    # print(areas)\n",
    "    #print(areas)\n",
    "    # 计算每个圆环上点的个数与面积之比\n",
    "    rdf_ratio = rdf_num / areas\n",
    "    #比平均密度\n",
    "    rdf_dr = rdf_ratio/avg_density\n",
    "    return bins, rdf_dr\n",
    "\n",
    "# 示例用法\n",
    "# 假设 processed_atomic_coordinates 是一个包含所有原子坐标的数组\n",
    "# center_atom 是指定原子的索引\n",
    "# dr 是半径步长，max_radius 是最大半径\n",
    "\n",
    "\n",
    "bins, rdf_dr = radial_distribution_function(processed_atomic_coordinates[5], center_atom, dr, max_radius)\n",
    "print(rdf_dr)\n",
    "\n"
   ]
  },
  {
   "cell_type": "code",
   "execution_count": 57,
   "id": "88b09208-bfc4-4ebf-b826-d377dfc4ef64",
   "metadata": {},
   "outputs": [
    {
     "data": {
      "text/plain": [
       "2.3100925369564482"
      ]
     },
     "execution_count": 57,
     "metadata": {},
     "output_type": "execute_result"
    }
   ],
   "source": [
    "avg_density = len(processed_atomic_coordinates[2])/Sarea\n",
    "rdf_ratio[0]/avg_density"
   ]
  },
  {
   "cell_type": "code",
   "execution_count": 25,
   "id": "f96a440c-164b-4f66-ad1c-fb51ead767d3",
   "metadata": {},
   "outputs": [
    {
     "data": {
      "text/plain": [
       "array([ 0.        ,  0.        ,  0.        ,  0.        ,  0.        ,\n",
       "        0.        ,  0.        ,  0.        ,  0.        ,  0.        ,\n",
       "        0.        ,  0.        ,  0.        ,  0.        ,  0.        ,\n",
       "        0.        ,  0.        ,  0.        ,  0.        ,  0.        ,\n",
       "        0.        , 19.38260704, 27.8098275 , 31.09293213, 17.0566942 ,\n",
       "        0.        , 11.84492653,  0.        ,  0.        ,  7.10695592,\n",
       "        6.87769927,  6.66277117, 19.38260704,  9.40626518, 15.22919125,\n",
       "        5.92246326,  2.88119834,  5.61075467,  0.        ,  0.        ,\n",
       "        0.        ,  0.        ,  2.47917067,  0.        ,  4.73797061,\n",
       "        4.63497125,  6.80453226,  4.44184745,  4.3511975 ,  2.13208677,\n",
       "        6.27084345, 12.30050062, 10.05701309, 21.71569863,  7.75304282,\n",
       "        0.        ,  3.74050311,  3.67601168,  0.        ,  0.        ,\n",
       "        0.        ,  0.        ,  0.        ,  0.        ,  3.2801335 ,\n",
       "        3.23043451,  3.18221907,  3.13542173,  4.63497125,  3.04583825,\n",
       "        1.50146956,  5.92246326,  4.38100022,  8.64359503,  4.26417355,\n",
       "        2.80537734,  5.53788773,  1.36672229,  0.        ,  0.        ,\n",
       "        0.        ,  0.        ,  0.        ,  5.07639708,  2.50833738,\n",
       "        0.        ,  2.45067445,  2.42282588,  0.        ,  0.        ,\n",
       "        0.        ,  0.        ,  1.14628321,  1.13408871,  0.        ,\n",
       "        4.44184745,  2.1980276 ,  1.08779937,  0.        ,  1.06604339])"
      ]
     },
     "execution_count": 25,
     "metadata": {},
     "output_type": "execute_result"
    }
   ],
   "source": [
    "#一帧中所有原子为中心的rdf的平均\n",
    "def calculate_all_rdfs(processed_atomic_coordinate):\n",
    "    all_rdfs = []\n",
    "    #以一帧的每一个原子为中心\n",
    "    for center_atom in range(len(processed_atomic_coordinate)):\n",
    "        bins, rdf_dr = radial_distribution_function(\n",
    "            processed_atomic_coordinate,\n",
    "            center_atom,\n",
    "            dr,\n",
    "            max_radius,\n",
    "        )\n",
    "        all_rdfs.append(rdf_dr)\n",
    "\n",
    "    return np.mean(all_rdfs, axis=0)\n",
    "calculate_all_rdfs(processed_atomic_coordinates[0])\n"
   ]
  },
  {
   "cell_type": "code",
   "execution_count": 26,
   "id": "0d618d2b-5996-40a8-88c2-f45d18ecadd3",
   "metadata": {},
   "outputs": [
    {
     "data": {
      "text/plain": [
       "array([0.00000000e+00, 0.00000000e+00, 0.00000000e+00, 0.00000000e+00,\n",
       "       0.00000000e+00, 0.00000000e+00, 0.00000000e+00, 0.00000000e+00,\n",
       "       0.00000000e+00, 0.00000000e+00, 0.00000000e+00, 0.00000000e+00,\n",
       "       0.00000000e+00, 0.00000000e+00, 0.00000000e+00, 0.00000000e+00,\n",
       "       0.00000000e+00, 0.00000000e+00, 1.34658112e-02, 2.72907107e-01,\n",
       "       2.49758736e+00, 1.27401876e+01, 2.64082122e+01, 3.01548139e+01,\n",
       "       2.18530366e+01, 1.15247491e+01, 4.20257993e+00, 1.19396859e+00,\n",
       "       2.58791222e-01, 1.27783067e+00, 3.99044112e+00, 9.30122855e+00,\n",
       "       1.67194368e+01, 1.96691276e+01, 1.48697823e+01, 6.60710002e+00,\n",
       "       2.26116446e+00, 5.39754599e-01, 1.64006675e-01, 3.73115186e-02,\n",
       "       0.00000000e+00, 9.13751475e-03, 1.01150163e-01, 8.24729930e-01,\n",
       "       2.42394576e+00, 5.46463110e+00, 8.00757356e+00, 8.92455989e+00,\n",
       "       6.68430960e+00, 5.14941598e+00, 6.74575533e+00, 1.10597901e+01,\n",
       "       1.51506891e+01, 1.33887153e+01, 7.75691934e+00, 3.13340610e+00,\n",
       "       8.99965049e-01, 2.20560701e-01, 2.16822384e-02, 0.00000000e+00,\n",
       "       9.78662782e-03, 2.26964076e-02, 1.59060442e-01, 7.57557082e-01,\n",
       "       1.91756604e+00, 3.44170492e+00, 4.96871685e+00, 4.61283245e+00,\n",
       "       3.80067642e+00, 3.60566332e+00, 3.49602172e+00, 4.19369624e+00,\n",
       "       4.70402597e+00, 5.11988946e+00, 5.53489727e+00, 4.67880832e+00,\n",
       "       2.84758187e+00, 1.09829803e+00, 2.16987059e-01, 4.47738223e-02,\n",
       "       8.63363533e-02, 3.39053799e-01, 9.54558368e-01, 1.88588152e+00,\n",
       "       3.06067327e+00, 3.09995500e+00, 1.98945752e+00, 8.43627972e-01,\n",
       "       2.00751541e-01, 4.92748943e-02, 9.13751475e-02, 2.07646712e-01,\n",
       "       5.47923375e-01, 1.12728418e+00, 1.53644906e+00, 1.78162501e+00,\n",
       "       1.89777703e+00, 1.74961651e+00, 1.26503815e+00, 5.50504805e-01])"
      ]
     },
     "execution_count": 26,
     "metadata": {},
     "output_type": "execute_result"
    }
   ],
   "source": [
    "#所有帧中所有原子为中心的rdf的平均\n",
    "all_rdfs = []\n",
    "for processed_atomic_coordinate in processed_atomic_coordinates:\n",
    "        rdf_dr = calculate_all_rdfs(processed_atomic_coordinate)\n",
    "        all_rdfs.append(rdf_dr)\n",
    "\n",
    "rdf_all = np.mean(all_rdfs, axis=0)\n",
    "rdf_all"
   ]
  },
  {
   "cell_type": "code",
   "execution_count": 27,
   "id": "ef369f9f-53bf-415e-99b8-10cd5d9ca38a",
   "metadata": {},
   "outputs": [
    {
     "data": {
      "text/plain": [
       "array([0.00000000e+00, 0.00000000e+00, 0.00000000e+00, 0.00000000e+00,\n",
       "       0.00000000e+00, 0.00000000e+00, 0.00000000e+00, 0.00000000e+00,\n",
       "       0.00000000e+00, 0.00000000e+00, 0.00000000e+00, 0.00000000e+00,\n",
       "       0.00000000e+00, 0.00000000e+00, 0.00000000e+00, 0.00000000e+00,\n",
       "       0.00000000e+00, 0.00000000e+00, 1.34658112e-02, 2.72907107e-01,\n",
       "       2.49758736e+00, 1.27401876e+01, 2.64082122e+01, 3.01548139e+01,\n",
       "       2.18530366e+01, 1.15247491e+01, 4.20257993e+00, 1.19396859e+00,\n",
       "       2.58791222e-01, 1.27783067e+00, 3.99044112e+00, 9.30122855e+00,\n",
       "       1.67194368e+01, 1.96691276e+01, 1.48697823e+01, 6.60710002e+00,\n",
       "       2.26116446e+00, 5.39754599e-01, 1.64006675e-01, 3.73115186e-02,\n",
       "       0.00000000e+00, 9.13751475e-03, 1.01150163e-01, 8.24729930e-01,\n",
       "       2.42394576e+00, 5.46463110e+00, 8.00757356e+00, 8.92455989e+00,\n",
       "       6.68430960e+00, 5.14941598e+00, 6.74575533e+00, 1.10597901e+01,\n",
       "       1.51506891e+01, 1.33887153e+01, 7.75691934e+00, 3.13340610e+00,\n",
       "       8.99965049e-01, 2.20560701e-01, 2.16822384e-02, 0.00000000e+00,\n",
       "       9.78662782e-03, 2.26964076e-02, 1.59060442e-01, 7.57557082e-01,\n",
       "       1.91756604e+00, 3.44170492e+00, 4.96871685e+00, 4.61283245e+00,\n",
       "       3.80067642e+00, 3.60566332e+00, 3.49602172e+00, 4.19369624e+00,\n",
       "       4.70402597e+00, 5.11988946e+00, 5.53489727e+00, 4.67880832e+00,\n",
       "       2.84758187e+00, 1.09829803e+00, 2.16987059e-01, 4.47738223e-02,\n",
       "       8.63363533e-02, 3.39053799e-01, 9.54558368e-01, 1.88588152e+00,\n",
       "       3.06067327e+00, 3.09995500e+00, 1.98945752e+00, 8.43627972e-01,\n",
       "       2.00751541e-01, 4.92748943e-02, 9.13751475e-02, 2.07646712e-01,\n",
       "       5.47923375e-01, 1.12728418e+00, 1.53644906e+00, 1.78162501e+00,\n",
       "       1.89777703e+00, 1.74961651e+00, 1.26503815e+00, 5.50504805e-01])"
      ]
     },
     "execution_count": 27,
     "metadata": {},
     "output_type": "execute_result"
    }
   ],
   "source": [
    "rdf_all"
   ]
  },
  {
   "cell_type": "code",
   "execution_count": 28,
   "id": "b62a4f23-0e32-4a34-9292-55478c9154c2",
   "metadata": {},
   "outputs": [
    {
     "data": {
      "image/png": "[encoded data removed]",
      "text/plain": [
       "<Figure size 640x480 with 1 Axes>"
      ]
     },
     "metadata": {},
     "output_type": "display_data"
    }
   ],
   "source": [
    "import numpy as np\n",
    "import matplotlib.pyplot as plt\n",
    "\n",
    "# 提供的数据\n",
    "\n",
    "# 生成与数据长度相同的 x 坐标\n",
    "#x = np.arange(len(rdf_all))\n",
    "x = np.arange(0, len(rdf_all) * dr * a , dr*a)\n",
    "\n",
    "# 绘制分布曲线\n",
    "plt.plot(x, rdf_all, label=\"Distribution Curve\")\n",
    "\n",
    "# 添加标签和标题\n",
    "plt.xlabel(\"Index\")\n",
    "plt.ylabel(\"Values\")\n",
    "plt.title(\"Distribution Curve\")\n",
    "\n",
    "# 显示图例\n",
    "plt.legend()\n",
    "\n",
    "# 显示图形\n",
    "plt.show()"
   ]
  }
 ],
 "metadata": {
  "kernelspec": {
   "display_name": "Python 3 (ipykernel)",
   "language": "python",
   "name": "python3"
  },
  "language_info": {
   "codemirror_mode": {
    "name": "ipython",
    "version": 3
   },
   "file_extension": ".py",
   "mimetype": "text/x-python",
   "name": "python",
   "nbconvert_exporter": "python",
   "pygments_lexer": "ipython3",
   "version": "3.11.5"
  }
 },
 "nbformat": 4,
 "nbformat_minor": 5
}
